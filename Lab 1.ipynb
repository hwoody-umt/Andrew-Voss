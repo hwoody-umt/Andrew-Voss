{
 "cells": [
  {
   "cell_type": "markdown",
   "metadata": {},
   "source": [
    "Andrew Voss\n",
    "1/17/2019"
   ]
  },
  {
   "cell_type": "code",
   "execution_count": 12,
   "metadata": {},
   "outputs": [
    {
     "name": "stdout",
     "output_type": "stream",
     "text": [
      "Error in Delta T = 0.31622776601683794\n"
     ]
    }
   ],
   "source": [
    "import numpy as np\n",
    "def rule3(errA,errB):\n",
    "    errQ = np.sqrt(errA**2 + errB**2)\n",
    "    return errQ\n",
    "errT_i = 0.3 #C\n",
    "errT_f = 0.1 #C\n",
    "\n",
    "err_Delta_T = rule3(errT_i,errT_f)\n",
    "\n",
    "print (\"Error in Delta T =\",err_Delta_T)"
   ]
  },
  {
   "cell_type": "code",
   "execution_count": 13,
   "metadata": {},
   "outputs": [
    {
     "name": "stdout",
     "output_type": "stream",
     "text": [
      "alph = 1.7228309558266145e-05\n"
     ]
    }
   ],
   "source": [
    "def expansion(Delta_L,L,Delta_T):\n",
    "    alpha = Delta_L/(L*Delta_T)\n",
    "    return alpha\n",
    "Delta_L = .00125 #m\n",
    "L = 1.05 #m\n",
    "Delta_T = 92.5-23.4 #C\n",
    "\n",
    "alpha = expansion(Delta_L,L,Delta_T)\n",
    "print (\"alph =\",alpha)"
   ]
  },
  {
   "cell_type": "code",
   "execution_count": 14,
   "metadata": {},
   "outputs": [
    {
     "name": "stdout",
     "output_type": "stream",
     "text": [
      "Error in alpha = 1.5962962826045274e-07\n"
     ]
    }
   ],
   "source": [
    "def rule4(Q,err_A,A,m,err_B,B,n,err_C,C,w):\n",
    "    errQ = Q*np.sqrt((m*err_A/A)**2+(n*err_B/B)**2+(w*err_C/C)**2)\n",
    "    return errQ\n",
    "\n",
    "err_Delta_L = .00001 #m\n",
    "Delta_L = .00125 #m\n",
    "err_L = .001 #m\n",
    "L = 1.05 #m\n",
    "\n",
    "err_alpha = rule4(alpha,err_Delta_L,Delta_L,1,err_L,L,-1,err_Delta_T,Delta_T,-1)\n",
    "\n",
    "print (\"Error in alpha =\",err_alpha)"
   ]
  },
  {
   "cell_type": "code",
   "execution_count": null,
   "metadata": {},
   "outputs": [],
   "source": []
  }
 ],
 "metadata": {
  "kernelspec": {
   "display_name": "Python 3",
   "language": "python",
   "name": "python3"
  },
  "language_info": {
   "codemirror_mode": {
    "name": "ipython",
    "version": 3
   },
   "file_extension": ".py",
   "mimetype": "text/x-python",
   "name": "python",
   "nbconvert_exporter": "python",
   "pygments_lexer": "ipython3",
   "version": "3.6.5"
  }
 },
 "nbformat": 4,
 "nbformat_minor": 2
}
